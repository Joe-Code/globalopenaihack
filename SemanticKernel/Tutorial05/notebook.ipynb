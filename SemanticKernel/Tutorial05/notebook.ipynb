{
 "cells": [
  {
   "attachments": {},
   "cell_type": "markdown",
   "metadata": {},
   "source": [
    "# Chaining Functions\n",
    "\n",
    "Running one prompt at a time can produce fantastic results! Sometimes you need several outputs from your AI copilot though. Of course you can simply call different skills in sequence in what is known as a prompt chain.\n",
    "\n",
    "The simplest version of a prompt chain would be implemented by calling InvokeAsync for each function in the order you wanted them to execute.\n",
    "\n",
    "A more interesting version of chaining allows you to use the output of one function to feed the next function thereby modifying the final result. Let's take a look at one of these more complex prompt chains."
   ]
  },
  {
   "cell_type": "code",
   "execution_count": null,
   "metadata": {
    "dotnet_interactive": {
     "language": "csharp"
    },
    "polyglot_notebook": {
     "kernelName": "csharp"
    },
    "vscode": {
     "languageId": "polyglot-notebook"
    }
   },
   "outputs": [],
   "source": [
    "#r \"nuget: Microsoft.SemanticKernel, 0.17.230626.1-preview\"\n",
    "\n",
    "#!import ../config/SettingsHelper.cs\n",
    "\n",
    "using Microsoft.SemanticKernel;\n",
    "\n",
    "// load settings specific to you!\n",
    "MySettings settings = Settings.LoadFromFile();\n",
    "\n",
    "// Configure AI backend used by the kernel\n",
    "var builder = new KernelBuilder();\n",
    "if (settings.Type == \"azure\")\n",
    "    builder.WithAzureTextCompletionService(settings.AzureOpenAI.CompletionsDeployment, settings.AzureOpenAI.Endpoint, settings.AzureOpenAI.ApiKey);\n",
    "else\n",
    "    builder.WithOpenAITextCompletionService(settings.OpenAI.Model, settings.OpenAI.ApiKey, settings.OpenAI.OrgId);\n",
    "IKernel kernel = builder.Build();"
   ]
  },
  {
   "cell_type": "markdown",
   "metadata": {},
   "source": [
    "The IKernel.RunAsync function allows you to provide one or more variables using a ContextVariables object and then any number of Semantic Kernel Functions in the order you want them to execute.\n",
    "\n",
    "The functions can be any combination of any supported types of functions including semantic, inline, or native functions. Only native functions allow you to modify the ContextVariables object though. This is an important capability in many prompt chaining solutions.\n",
    "\n",
    "Run the following example."
   ]
  },
  {
   "cell_type": "code",
   "execution_count": null,
   "metadata": {
    "dotnet_interactive": {
     "language": "csharp"
    },
    "polyglot_notebook": {
     "kernelName": "csharp"
    },
    "vscode": {
     "languageId": "polyglot-notebook"
    }
   },
   "outputs": [],
   "source": [
    "using Microsoft.SemanticKernel.Orchestration;\n",
    "using System.IO;\n",
    "\n",
    "#!import Plugins/ChaosPlugin.cs\n",
    "#!import Plugins/MadLibPlugin.cs\n",
    "\n",
    "// you can use any combination of semantic, native, or inline functions in a chain\n",
    "var pluginsDirectory = Path.Combine(Directory.GetCurrentDirectory(), \"Plugins\");\n",
    "var puzzlePlugin = kernel.ImportSemanticSkillFromDirectory(pluginsDirectory, \"PuzzlePlugin\");\n",
    "\n",
    "var madLibPlugin = kernel.ImportSkill(new MadLibPlugin(kernel));\n",
    "var chaosPlugin = kernel.ImportSkill(new ChaosPlugin(kernel));\n",
    "\n",
    "// define your desired parameters needed by the chain of functions.\n",
    "// some variables will be populated by the native functions in the chain as well!\n",
    "ContextVariables pipelineContext = new();\n",
    "pipelineContext[\"madLibTheme\"] = \"rock concert\";\n",
    "\n",
    "// pass your prompt to your OpenAI instance and retrieve the completion\n",
    "var completion = await kernel.RunAsync(\n",
    "    pipelineContext, \n",
    "    chaosPlugin[\"GenerateRandomNumbers\"], \n",
    "    chaosPlugin[\"GenerateRandomWords\"], \n",
    "    madLibPlugin[\"GenerateMadLib\"], \n",
    "    puzzlePlugin[\"FillTheBlanksFunction\"]);\n",
    "\n",
    "Console.WriteLine(completion);"
   ]
  },
  {
   "cell_type": "markdown",
   "metadata": {},
   "source": [
    "There's actually quite a bit of code in this solution and it's spread across a few different files, but we'll walk through it here as best we can.\n",
    "\n",
    "First, we'll load all of the plugins we'll need.\n",
    "- The Puzzle Plugin has just one semantic function defined. It's job is to take a list of random adjectives, nouns, and verbs."
   ]
  },
  {
   "cell_type": "markdown",
   "metadata": {},
   "source": [
    "# Exercise\n",
    "\n",
    "Create a new prompt chain solution targeting international students learning English. You want to surprise them every day with a list of words and their definitions.\n",
    "\n",
    "**Hint: Use the Chaos Plugin's Generate Random Numbers and Generate Random Words functions. You'll have to write your own semantic, inline, or native function to fetch the definition of words.**"
   ]
  }
 ],
 "metadata": {
  "language_info": {
   "name": "python"
  },
  "orig_nbformat": 4
 },
 "nbformat": 4,
 "nbformat_minor": 2
}
