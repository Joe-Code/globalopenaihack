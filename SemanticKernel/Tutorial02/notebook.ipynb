{
 "cells": [
  {
   "attachments": {},
   "cell_type": "markdown",
   "metadata": {},
   "source": [
    "# Different Types of Semantic Functions\n",
    "\n",
    "- *Inline*: inline functions are written in your chosen native language. You create the prompt, any variables, and configuration options in your desired language.\n",
    "- *Native*: \n",
    "- *Semantic*: semantic functions are written in something closer to natural language. While this may initially seem too basic or limited, this non-traditional code can often be a very powerful approach in this A.I. world. (\"English is the new programming language.\")"
   ]
  },
  {
   "cell_type": "code",
   "execution_count": null,
   "metadata": {
    "dotnet_interactive": {
     "language": "csharp"
    },
    "polyglot_notebook": {
     "kernelName": "csharp"
    },
    "vscode": {
     "languageId": "polyglot-notebook"
    }
   },
   "outputs": [],
   "source": [
    "#r \"nuget: Microsoft.SemanticKernel, 0.15.230531.5-preview\"\n",
    "\n",
    "#!import ../config/SettingsHelper.cs\n",
    "\n",
    "using Microsoft.SemanticKernel;\n",
    "\n",
    "MySettings settings = Settings.LoadFromFile();\n",
    "\n",
    "// Configure AI backend used by the kernel\n",
    "var builder = new KernelBuilder();\n",
    "if (settings.Type == \"azure\")\n",
    "    builder.WithAzureTextCompletionService(settings.AzureOpenAI.CompletionsDeployment, settings.AzureOpenAI.Endpoint, settings.AzureOpenAI.ApiKey);\n",
    "else\n",
    "    builder.WithOpenAITextCompletionService(settings.OpenAI.Model, settings.OpenAI.ApiKey, settings.OpenAI.OrgId);\n",
    "IKernel kernel = builder.Build();"
   ]
  },
  {
   "attachments": {},
   "cell_type": "markdown",
   "metadata": {},
   "source": [
    "## Inline Function\n",
    "\n",
    "You can create a function alongside the rest of your code. These inline functions are very easy to implement and may allow for some very complex logic, but it potentially sacrifices some reusability and maintainability. "
   ]
  },
  {
   "cell_type": "code",
   "execution_count": 5,
   "metadata": {
    "dotnet_interactive": {
     "language": "csharp"
    },
    "polyglot_notebook": {
     "kernelName": "csharp"
    },
    "vscode": {
     "languageId": "polyglot-notebook"
    }
   },
   "outputs": [
    {
     "name": "stdout",
     "output_type": "stream",
     "text": [
      "\n",
      "\n",
      "Battle every succumb will you, enemy the nor yourself know neither, defeat a suffer also will you victory gained every for, enemy the not but yourself know, hundred of result a fear not need you, yourself know and enemy the know you if.\r\n"
     ]
    }
   ],
   "source": [
    "// define your inline function\n",
    "string functionDefinition = \"\"\"\n",
    "Write the following words in reverse order: {{$input}}\n",
    "\"\"\";\n",
    "var reverseFunction = kernel.CreateSemanticFunction(functionDefinition);\n",
    "\n",
    "// pass your prompt to your OpenAI instance and retrieve the completion\n",
    "string prompt = \"If you know the enemy and know yourself, you need not fear the result of a hundred battles. If you know yourself but not the enemy, for every victory gained you will also suffer a defeat. If you know neither the enemy nor yourself, you will succumb in every battle.\";\n",
    "var completion = await reverseFunction.InvokeAsync(prompt);\n",
    "\n",
    "Console.WriteLine(completion);"
   ]
  },
  {
   "attachments": {},
   "cell_type": "markdown",
   "metadata": {},
   "source": [
    "# Native Functions\n",
    "\n",
    "Like inline functions, native functions are written in code. Since it's \"just code\", Native Functions provide the same opportunity to do anything you could do in code (basically everything! :) "
   ]
  },
  {
   "cell_type": "code",
   "execution_count": 9,
   "metadata": {
    "dotnet_interactive": {
     "language": "csharp"
    },
    "polyglot_notebook": {
     "kernelName": "csharp"
    },
    "vscode": {
     "languageId": "polyglot-notebook"
    }
   },
   "outputs": [
    {
     "name": "stdout",
     "output_type": "stream",
     "text": [
      "Translate the following into olde English: {$input}\r\n"
     ]
    }
   ],
   "source": [
    "#!import Skills/OldeEnglishSkill/OldeEnglishSkill.cs\n",
    "\n",
    "var oeSkill = kernel.ImportSkill(new OldeEnglishSkill());\n",
    "\n",
    "var context = kernel.RunAsync(\n",
    "    \"Death cannot stop true love. All it can do is delay it for a while.\", \n",
    "    oeSkill[\"Translate\"]);\n",
    "\n",
    "Console.WriteLine(context.Result);"
   ]
  },
  {
   "attachments": {},
   "cell_type": "markdown",
   "metadata": {},
   "source": [
    "# Semantic Functions\n",
    "\n",
    "Finally, semantic functions are especially interesting. Up to this point, we defined our functions using traditional C# code and there's a lot of great use cases for doing so. But in a world of A.I., why can't we just use a more natural language to define our function? A semantic function allows for exactly that!"
   ]
  },
  {
   "cell_type": "code",
   "execution_count": 13,
   "metadata": {
    "dotnet_interactive": {
     "language": "csharp"
    },
    "polyglot_notebook": {
     "kernelName": "csharp"
    },
    "vscode": {
     "languageId": "polyglot-notebook"
    }
   },
   "outputs": [
    {
     "name": "stdout",
     "output_type": "stream",
     "text": [
      "\n",
      "idDay ouyay everay ancedday ithway ethay evilday in the ayepalay onemoontlightlay?\r\n"
     ]
    }
   ],
   "source": [
    "using System.IO;\n",
    "\n",
    "var skillsDirectory = Path.Combine(System.IO.Directory.GetCurrentDirectory(), \"Skills\");\n",
    "\n",
    "var mySkill = kernel.ImportSemanticSkillFromDirectory(skillsDirectory, \"TranslateSkill\");\n",
    "\n",
    "string prompt = \"Did you ever dance with the devil in the pale moonlight?\";\n",
    "\n",
    "var result = await kernel.RunAsync(prompt, mySkill[\"PigLatinSkill\"]);\n",
    "\n",
    "Console.WriteLine(result);"
   ]
  },
  {
   "attachments": {},
   "cell_type": "markdown",
   "metadata": {},
   "source": [
    "## Exercise\n",
    "\n",
    "With each of the above functions now associated with the kernel, write code in the box below to invoke each function with your own input prompt and write the output of each to the Console window."
   ]
  },
  {
   "cell_type": "code",
   "execution_count": null,
   "metadata": {
    "dotnet_interactive": {
     "language": "csharp"
    },
    "polyglot_notebook": {
     "kernelName": "csharp"
    },
    "vscode": {
     "languageId": "polyglot-notebook"
    }
   },
   "outputs": [],
   "source": []
  },
  {
   "attachments": {},
   "cell_type": "markdown",
   "metadata": {},
   "source": [
    "# Exercise\n",
    "\n",
    "Add your own semantic function to the Tutorial02 folder and test that you get the desired result.\n",
    "Add your own native function to the Tutorial02 folder and test that you get the desired result."
   ]
  },
  {
   "cell_type": "code",
   "execution_count": null,
   "metadata": {
    "dotnet_interactive": {
     "language": "csharp"
    },
    "polyglot_notebook": {
     "kernelName": "csharp"
    },
    "vscode": {
     "languageId": "polyglot-notebook"
    }
   },
   "outputs": [],
   "source": []
  }
 ],
 "metadata": {
  "language_info": {
   "name": "python"
  },
  "orig_nbformat": 4
 },
 "nbformat": 4,
 "nbformat_minor": 2
}
