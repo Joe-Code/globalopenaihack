{
 "cells": [
  {
   "attachments": {},
   "cell_type": "markdown",
   "metadata": {},
   "source": [
    "# Intro to Context & Variables\n",
    "\n",
    "In previous tutorials, all of our skills used the single built-in variable named input though you've often seen it like this: {{$input}}. This built-in variable is used when no specific variable is specified.\n",
    "\n",
    "For a lot of scenarios, this single input variable is just fine, but Semantic Kernel supports an SKContext object which acts a key-value pair to hold many variables when necessary. "
   ]
  },
  {
   "cell_type": "code",
   "execution_count": null,
   "metadata": {
    "dotnet_interactive": {
     "language": "csharp"
    },
    "polyglot_notebook": {
     "kernelName": "csharp"
    },
    "vscode": {
     "languageId": "polyglot-notebook"
    }
   },
   "outputs": [],
   "source": [
    "#r \"nuget: Microsoft.SemanticKernel, 0.20.230821.4-preview\"\n",
    "\n",
    "#!import ../config/SettingsHelper.cs\n",
    "\n",
    "using Microsoft.SemanticKernel;\n",
    "// the following is an abbreviated version of the code in Tutorial0 that reads from the settings file and sets up the kernel\n",
    "MySettings settings = Settings.LoadFromFile();\n",
    "IKernel kernel = Settings.SetupSemanticKernel(settings);"
   ]
  },
  {
   "cell_type": "markdown",
   "metadata": {},
   "source": [
    "The SKContext is a Dictionary<string, TrustAwareString>. For this tutorial, we'll just treat a TrustAwareString like any other string of characters. The first string in the dictionary represents the name of a variable and the second is the value of the variable to be used by the function. You can add many of these key-value pairs and provide the entire SKContext when invoking the function."
   ]
  },
  {
   "cell_type": "code",
   "execution_count": null,
   "metadata": {
    "dotnet_interactive": {
     "language": "csharp"
    },
    "polyglot_notebook": {
     "kernelName": "csharp"
    },
    "vscode": {
     "languageId": "polyglot-notebook"
    }
   },
   "outputs": [],
   "source": [
    "using Microsoft.SemanticKernel.Orchestration;\n",
    "\n",
    "// define your inline function using two variables - and notice we are opting out of using the built-in 'input' variable\n",
    "string functionDefinition = \"\"\"\n",
    "    solve for x and y: \n",
    "    {{$equation1}}\n",
    "    {{$equation2}}\n",
    "    \"\"\";\n",
    "var solveFunction = kernel.CreateSemanticFunction(functionDefinition);\n",
    "\n",
    "// Initialize your context\n",
    "SKContext context = kernel.CreateNewContext();\n",
    "context[\"equation1\"] = \"x + y = 7\";\n",
    "context[\"equation2\"] = \"x - y = 3\";\n",
    "\n",
    "var completion = await solveFunction.InvokeAsync(context);\n",
    "\n",
    "Console.WriteLine(completion);"
   ]
  },
  {
   "cell_type": "markdown",
   "metadata": {},
   "source": [
    "After running the code above, you can see how the two variables (equation1 and equation2) are replaced by the values stored in the SKContext object. First, the two variable names are inserted into the inline function. Later an SKContext object is created through the CreateNewContext method on the kernel object. Subsequently, an entry is made in the dictionary for each key-value pair. (If you are unfamiliar with dictionaries, think of them like a list of items where each item is defined by a unique 'key' and it's corresponding 'value'. In the code above one item in the dictionary has a key equal to \"equation1\" and it's corresponding value is \"x + y = 7\".)\n",
    "\n",
    "Wait! So how many variables can I have?! Can I define an entire function with just variables?! Let's run another example just for fun."
   ]
  },
  {
   "cell_type": "code",
   "execution_count": null,
   "metadata": {
    "dotnet_interactive": {
     "language": "csharp"
    },
    "polyglot_notebook": {
     "kernelName": "csharp"
    },
    "vscode": {
     "languageId": "polyglot-notebook"
    }
   },
   "outputs": [],
   "source": [
    "using Microsoft.SemanticKernel.Orchestration;\n",
    "\n",
    "// define your inline function entirely with variables\n",
    "string functionDefinition = \"\"\"\n",
    "    {{$fact1}}\n",
    "    {{$fact2}}\n",
    "    {{$fact3}}\n",
    "\n",
    "    {{$question}}\n",
    "    \"\"\";\n",
    "\n",
    "// Initialize your context\n",
    "SKContext context = new();\n",
    "context[\"fact1\"] = \"Five people ran a race.\";\n",
    "context[\"fact2\"] = \"Al finished before Bob, but behind Cal.\";\n",
    "context[\"fact3\"] = \"Dia finished before Elly, but behind Bob.\";\n",
    "context[\"question\"] = \"In what order did each finish the race?\";\n",
    "\n",
    "var solveFunction = kernel.CreateSemanticFunction(functionDefinition);\n",
    "\n",
    "var completion = await solveFunction.InvokeAsync(context);\n",
    "\n",
    "Console.WriteLine(completion);"
   ]
  },
  {
   "cell_type": "markdown",
   "metadata": {},
   "source": [
    "As you can see above, you aren't limited by one, two - or even four variables in your function. (You are limited by tokens, but more on that and prompt engineering in another tutorial.)\n",
    "\n",
    "You can see we first built an SKContext variable and adding several facts to that dictionary. The variable names are replaced by the actual strings so it doesn't really matter what the dictionary key is so long as it makes sense to you the developer! Both the dictionary's key and value must both be strings - no integers, floats, etc. You can store all of these as string of course. You can even serialize objects into variables and then deserialize them in native functions."
   ]
  },
  {
   "cell_type": "markdown",
   "metadata": {},
   "source": [
    "# Exercise\n",
    "\n",
    "Define and run a semantic function below that uses multiple variables. Your function should support at least three different names of objects. Your semantic function should ask OpenAI to return what is most common across all of your objects."
   ]
  },
  {
   "cell_type": "code",
   "execution_count": null,
   "metadata": {
    "dotnet_interactive": {
     "language": "csharp"
    },
    "polyglot_notebook": {
     "kernelName": "csharp"
    },
    "vscode": {
     "languageId": "polyglot-notebook"
    }
   },
   "outputs": [],
   "source": []
  }
 ],
 "metadata": {
  "language_info": {
   "name": "python"
  },
  "orig_nbformat": 4
 },
 "nbformat": 4,
 "nbformat_minor": 2
}
