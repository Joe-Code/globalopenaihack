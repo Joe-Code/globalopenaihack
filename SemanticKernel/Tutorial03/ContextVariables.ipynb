{
 "cells": [
  {
   "attachments": {},
   "cell_type": "markdown",
   "metadata": {},
   "source": [
    "# Intro to Context & Variables\n",
    "\n",
    "In previous tutorials, all of our skills used the single built-in variable named input though you've often seen it like this: {{$input}}. This built-in variable is used when no specific variable is specified.\n",
    "\n",
    "For a lot of scenarios, this single input variable is just fine, but Semantic Kernel supports an SKContext object which acts a key-value pair to hold many variables when necessary. "
   ]
  },
  {
   "cell_type": "code",
   "execution_count": 1,
   "metadata": {
    "dotnet_interactive": {
     "language": "csharp"
    },
    "polyglot_notebook": {
     "kernelName": "csharp"
    },
    "vscode": {
     "languageId": "polyglot-notebook"
    }
   },
   "outputs": [
    {
     "data": {
      "text/html": [
       "<div><div></div><div></div><div><strong>Installed Packages</strong><ul><li><span>Microsoft.SemanticKernel, 1.0.0-rc3</span></li></ul></div></div>"
      ]
     },
     "metadata": {},
     "output_type": "display_data"
    }
   ],
   "source": [
    "#r \"nuget: Microsoft.SemanticKernel, 1.0.0-rc3\"\n",
    "#!import ../config/SettingsHelper.cs\n",
    "using Microsoft.SemanticKernel;\n",
    "\n",
    "MySettings settings = Settings.LoadFromFile();\n",
    "KernelBuilder builder = new();\n",
    "if (settings.Type == \"azure\")\n",
    "    builder.AddAzureOpenAIChatCompletion(\n",
    "        settings.AzureOpenAI.ChatDeployment, \"gpt-35-turbo\", settings.AzureOpenAI.Endpoint, settings.AzureOpenAI.ApiKey);\n",
    "else\n",
    "    builder.AddOpenAIChatCompletion(\n",
    "        settings.OpenAI.Model, settings.OpenAI.ApiKey, settings.OpenAI.OrgId);\n",
    "Kernel kernel = builder.Build();"
   ]
  },
  {
   "cell_type": "markdown",
   "metadata": {},
   "source": [
    "The SKContext is a Dictionary<string, TrustAwareString>. For this tutorial, we'll just treat a TrustAwareString like any other string of characters. The first string in the dictionary represents the name of a variable and the second is the value of the variable to be used by the function. You can add many of these key-value pairs and provide the entire SKContext when invoking the function."
   ]
  },
  {
   "cell_type": "code",
   "execution_count": 2,
   "metadata": {
    "dotnet_interactive": {
     "language": "csharp"
    },
    "polyglot_notebook": {
     "kernelName": "csharp"
    },
    "vscode": {
     "languageId": "polyglot-notebook"
    }
   },
   "outputs": [
    {
     "name": "stdout",
     "output_type": "stream",
     "text": [
      "To solve for x and y, we can use the method of elimination. We can add the two equations together to eliminate y:\n",
      "\n",
      "(x + y) + (x - y) = 7 + 3\n",
      "\n",
      "Simplifying the left side, we get:\n",
      "\n",
      "2x = 10\n",
      "\n",
      "Dividing both sides by 2, we get:\n",
      "\n",
      "x = 5\n",
      "\n",
      "Now that we know x, we can substitute it into one of the original equations to solve for y. Let's use the first equation:\n",
      "\n",
      "x + y = 7\n",
      "\n",
      "Substituting x = 5, we get:\n",
      "\n",
      "5 + y = 7\n",
      "\n",
      "Subtracting 5 from both sides, we get:\n",
      "\n",
      "y = 2\n",
      "\n",
      "Therefore, the solution to the system of equations is x = 5 and y = 2.\r\n"
     ]
    }
   ],
   "source": [
    "// define your inline function using two variables - and notice we are opting out of using the built-in 'input' variable\n",
    "string functionDefinition = \"\"\"\n",
    "    solve for x and y and show your steps: \n",
    "    {{$equation1}}\n",
    "    {{$equation2}}\n",
    "    \"\"\";\n",
    "\n",
    "KernelFunction solveFunction = \n",
    "    kernel.CreateFunctionFromPrompt(functionDefinition);\n",
    "\n",
    "// Initialize your prompt parameters\n",
    "KernelArguments arguments = new()\n",
    "{\n",
    "    [\"equation1\"] = \"x + y = 7\",\n",
    "    [\"equation2\"] = \"x - y = 3\"\n",
    "};\n",
    "\n",
    "FunctionResult result = await kernel.InvokeAsync(\n",
    "    solveFunction, \n",
    "    arguments);\n",
    "\n",
    "Console.WriteLine(result.GetValue<string>()!);"
   ]
  },
  {
   "cell_type": "markdown",
   "metadata": {},
   "source": [
    "After running the code above, you can see how the two variables (equation1 and equation2) are replaced by the values stored in the SKContext object. First, the two variable names are inserted into the inline function. Later an SKContext object is created through the CreateNewContext method on the kernel object. Subsequently, an entry is made in the dictionary for each key-value pair. (If you are unfamiliar with dictionaries, think of them like a list of items where each item is defined by a unique 'key' and it's corresponding 'value'. In the code above one item in the dictionary has a key equal to \"equation1\" and it's corresponding value is \"x + y = 7\".)\n",
    "\n",
    "Wait! So how many variables can I have?! Can I define an entire function with just variables?! Let's run another example just for fun."
   ]
  },
  {
   "cell_type": "code",
   "execution_count": 3,
   "metadata": {
    "dotnet_interactive": {
     "language": "csharp"
    },
    "polyglot_notebook": {
     "kernelName": "csharp"
    },
    "vscode": {
     "languageId": "polyglot-notebook"
    }
   },
   "outputs": [
    {
     "name": "stdout",
     "output_type": "stream",
     "text": [
      "Based on the given information, the order in which the five people finished the race is:\n",
      "\n",
      "1. Cal\n",
      "2. Al\n",
      "3. Bob\n",
      "4. Dia\n",
      "5. Elly\n",
      "\n",
      "Cal finished first, followed by Al in second place. Bob finished third, as he came after Cal but before Dia. Dia finished fourth, as she came after Bob but before Elly. Finally, Elly finished last.\r\n"
     ]
    }
   ],
   "source": [
    "// define your inline function using three variables\n",
    "// and notice we are now using the default 'input' variable\n",
    "string functionDefinition = \"\"\"\n",
    "    {{$fact1}}\n",
    "    {{$fact2}}\n",
    "    {{$fact3}}\n",
    "\n",
    "    {{$input}}\n",
    "    \"\"\";\n",
    "\n",
    "// create a function from your prompt template\n",
    "KernelFunction solveFunction =\n",
    "    kernel.CreateFunctionFromPrompt(functionDefinition);\n",
    "\n",
    "// initialize your prompt parameters\n",
    "// define the default 'input' variable in the constructor\n",
    "KernelArguments arguments = new(\"In what order did each person finish the race?\")\n",
    "{\n",
    "    [\"fact1\"] = \"Five people ran a race.\",\n",
    "    [\"fact2\"] = \"Al finished before Bob, but behind Cal.\", \n",
    "    [\"fact3\"] = \"Dia finished before Elly, but behind Bob.\"\n",
    "};\n",
    "\n",
    "// invoke your function\n",
    "FunctionResult result = await kernel.InvokeAsync(\n",
    "    solveFunction,\n",
    "    arguments);\n",
    "\n",
    "Console.WriteLine(result.GetValue<string>()!);"
   ]
  },
  {
   "cell_type": "markdown",
   "metadata": {},
   "source": [
    "As you can see above, you aren't limited by one, two - or even four variables in your function. (You are limited by tokens, but more on that and prompt engineering in another tutorial.)\n",
    "\n",
    "You can see we first built an SKContext variable and adding several facts to that dictionary. The variable names are replaced by the actual strings so it doesn't really matter what the dictionary key is so long as it makes sense to you the developer! Both the dictionary's key and value must both be strings - no integers, floats, etc. You can store all of these as string of course. You can even serialize objects into variables and then deserialize them in native functions."
   ]
  },
  {
   "cell_type": "markdown",
   "metadata": {},
   "source": [
    "# Exercise\n",
    "\n",
    "Define and run a semantic function below that uses multiple variables. Your function should support at least three different names of objects. Your semantic function should ask OpenAI to return what is most common across all of your objects."
   ]
  },
  {
   "cell_type": "code",
   "execution_count": 5,
   "metadata": {
    "dotnet_interactive": {
     "language": "csharp"
    },
    "polyglot_notebook": {
     "kernelName": "csharp"
    },
    "vscode": {
     "languageId": "polyglot-notebook"
    }
   },
   "outputs": [
    {
     "name": "stdout",
     "output_type": "stream",
     "text": [
      "Three of the objects listed are fruits (apple, orange, and strawberry) and one is a vegetable (potato). The common characteristic among the fruits is that they are all sweet and edible, while the potato is a starchy vegetable that is typically cooked before consumption.\r\n"
     ]
    }
   ],
   "source": [
    "// define your inline function using three variables\n",
    "// and notice we are now using the default 'input' variable\n",
    "string functionDefinition = \"\"\"\n",
    "    {{$fact1}}\n",
    "    {{$fact2}}\n",
    "    {{$fact3}}\n",
    "    {{$fact4}}\n",
    "\n",
    "    {{$input}}\n",
    "    \"\"\";\n",
    "\n",
    "// create a function from your prompt template\n",
    "KernelFunction solveFunction =\n",
    "    kernel.CreateFunctionFromPrompt(functionDefinition);\n",
    "\n",
    "// initialize your prompt parameters\n",
    "// define the default 'input' variable in the constructor\n",
    "KernelArguments arguments = new(\"What common characteristic does each object have?\")\n",
    "{\n",
    "    [\"fact1\"] = \"Apple.\",\n",
    "    [\"fact2\"] = \"Orange.\", \n",
    "    [\"fact3\"] = \"Strawberry.\",\n",
    "    [\"fact4\"] = \"Potato.\"\n",
    "};\n",
    "\n",
    "// invoke your function\n",
    "FunctionResult result = await kernel.InvokeAsync(\n",
    "    solveFunction,\n",
    "    arguments);\n",
    "\n",
    "Console.WriteLine(result.GetValue<string>()!);"
   ]
  }
 ],
 "metadata": {
  "language_info": {
   "name": "python"
  },
  "orig_nbformat": 4
 },
 "nbformat": 4,
 "nbformat_minor": 2
}
