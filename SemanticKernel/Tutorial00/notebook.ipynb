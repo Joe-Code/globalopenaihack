{
 "cells": [
  {
   "attachments": {},
   "cell_type": "markdown",
   "metadata": {},
   "source": [
    "# Setup prerequisites\n",
    "\n",
    "In this brief tutorial, we'll make sure you get everything set up so you can run the other notebooks.\n",
    "\n",
    "1. In order to make progress in these tutorials, you must have either Azure OpenAI Service provisioned and/or established an OpenAI account.\n",
    "2. Find the **config** folder and add a new file there named **settings.json**.\n",
    "3. In the settings.json file you just created, paste the following code and replace the text within square brackets with your own settings. (Remember you only to populate either AzureOpenAI or OpenAI settings.): \n",
    "``` json\n",
    "{\n",
    "    \"type\": \"azure\", \n",
    "    \"AzureOpenAI\": {\n",
    "        \"Endpoint\": \"[the endpoint URL from your Azure OpenAI Service instance]\", \n",
    "        \"ApiKey\": \"[key from your Azure OpenAI Service instance.]\", \n",
    "        \"CompletionsDeployment\": \"[insert the name of a deployment in your Azure OpenAI instance.]\"\n",
    "    }, \n",
    "    \"OpenAI\": {\n",
    "        \"ApiKey\": \"[the key from your OpenAI instance]\", \n",
    "        \"OrgId\": \"[the organization ID from your OpenAI instance]\", \n",
    "        \"Model\": \"[insert the name of the model you are using from OpenAI]\"\n",
    "    }\n",
    "}\n",
    "```\n",
    "For the **type** setting above, you can enter *azure* to specify you want to use Azure OpenAI Service or *openai* if you want to use OpenAI.\n",
    "\n",
    "If you are connecting to an instance of the Azure OpenAI Service, you have to set:\n",
    "- **AzureOpenAI Endpoint** In the Azure portal, navigate to the **Overview** page of your Azure OpenAI instance. Copy the Endpoint URL and paste the value as indicated below.\n",
    "- **AzureOpenAIApiKey** In the Azure portal, navigate to the **Keys and Endpoint** page of your Azure OpenAI instance. Copy the **KEY 1** and paste the value as indicated below.\n",
    "- **deployment** In the Azure portal, navigate to the **Model Deployments** page of your Azure OpenAI instance. Click the **Manage Deployments** button to navigate to Azure AI Studio and the **Deployments** page. If you haven't already, create a new deployment and select the text-davinci-003 model. Give your deployment a name and paste the value as indicated below.\n",
    " "
   ]
  },
  {
   "cell_type": "code",
   "execution_count": null,
   "metadata": {
    "dotnet_interactive": {
     "language": "csharp"
    },
    "polyglot_notebook": {
     "kernelName": "csharp"
    },
    "vscode": {
     "languageId": "polyglot-notebook"
    }
   },
   "outputs": [],
   "source": [
    "// hit the little play button to the left of this line in order to run this code\n",
    "#!import ../config/SettingsHelper.cs\n",
    "\n",
    "MySettings settings = Settings.LoadFromFile();\n",
    "\n",
    "// print the settings from your file below\n",
    "Console.WriteLine($\"I want to use {settings.Type}\");\n",
    "Console.WriteLine($\"Using Azure OpenAI endpoint: {settings.AzureOpenAI.Endpoint}\");\n",
    "Console.WriteLine($\"Using Azure OpenAI API key: {settings.AzureOpenAI.ApiKey}\");\n",
    "Console.WriteLine($\"Using completions deployment: {settings.AzureOpenAI.CompletionsDeployment}\");\n",
    "Console.WriteLine($\"Using OpenAI API key: {settings.OpenAI.ApiKey}\");\n",
    "Console.WriteLine($\"Using OpenAI Organization ID: {settings.OpenAI.OrgId}\");\n",
    "Console.WriteLine($\"Using OpenAI model: {settings.OpenAI.Model}\");"
   ]
  },
  {
   "attachments": {},
   "cell_type": "markdown",
   "metadata": {},
   "source": [
    "If you see your settings correctly printed above, then you have set up your settings.json well. Great job!!\n",
    "\n",
    "We still have to ensure you entered the correct settings and you are able to access your instance of Azure OpenAI Service or OpenAI.\n",
    "\n",
    "In the fourth line of code, be sure to replace the square brackets and the text within. If you are using Azure OpenAI Service, enter the name of your deployment. Otherwise, if you are using OpenAI, enter the name of the model you are using."
   ]
  },
  {
   "cell_type": "code",
   "execution_count": null,
   "metadata": {
    "dotnet_interactive": {
     "language": "csharp"
    },
    "polyglot_notebook": {
     "kernelName": "csharp"
    },
    "vscode": {
     "languageId": "polyglot-notebook"
    }
   },
   "outputs": [],
   "source": [
    "#r \"nuget: Microsoft.SemanticKernel, 0.15.230531.5-preview\"\n",
    "using Microsoft.SemanticKernel;\n",
    "\n",
    "var builder = new KernelBuilder();\n",
    "if (settings.Type == \"azure\")\n",
    "    builder.WithAzureTextCompletionService(settings.AzureOpenAI.CompletionsDeployment, settings.AzureOpenAI.Endpoint, settings.AzureOpenAI.ApiKey);\n",
    "else\n",
    "    builder.WithOpenAITextCompletionService(settings.OpenAI.Model, settings.OpenAI.ApiKey, settings.OpenAI.OrgId);\n",
    "IKernel kernel = builder.Build();\n",
    "\n",
    "// define your semantic function\n",
    "string functionDefinition = \"\"\"\n",
    "...{{$input}}\n",
    "Finish the phrase above.\n",
    "\"\"\";\n",
    "var summaryFunction = kernel.CreateSemanticFunction(functionDefinition);\n",
    "\n",
    "// pass your prompt to your OpenAI instance and retrieve the completion\n",
    "string prompt = \"How much wood could\";\n",
    "var completion = await summaryFunction.InvokeAsync(prompt);\n",
    "\n",
    "// Return the result to the Notebook\n",
    "Console.WriteLine(completion);"
   ]
  },
  {
   "attachments": {},
   "cell_type": "markdown",
   "metadata": {},
   "source": [
    "Did you get the output you were expecting? If you see the completed phrase, great job!! If you don't, then double-check:\n",
    "- your seettings in settings.json and \n",
    "- be sure you correctly set your deployment (Azure) or model (OpenAI).\n",
    "\n",
    "Don't worry too much about what each of the above lines of code actually does as we'll walk through this in more detail in the next few tutorials."
   ]
  }
 ],
 "metadata": {
  "language_info": {
   "name": "python"
  },
  "orig_nbformat": 4
 },
 "nbformat": 4,
 "nbformat_minor": 2
}
