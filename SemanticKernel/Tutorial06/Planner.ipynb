{
 "cells": [
  {
   "attachments": {},
   "cell_type": "markdown",
   "metadata": {},
   "source": [
    "# Planner\n",
    "\n",
    "When we know exactly which semantic function we want to invoke in our app, we can just specify it in our code. As we grow our library of interesting and useful semantic functions, we might not want a specific button in our UI to invoke each function. Wouldn't it be cool if the AI could determine which semantic function best fits the user's question?"
   ]
  },
  {
   "cell_type": "code",
   "execution_count": null,
   "metadata": {
    "dotnet_interactive": {
     "language": "csharp"
    },
    "polyglot_notebook": {
     "kernelName": "csharp"
    },
    "vscode": {
     "languageId": "polyglot-notebook"
    }
   },
   "outputs": [],
   "source": [
    "#r \"nuget: Microsoft.SemanticKernel, 0.17.230704.3-preview\"\n",
    "\n",
    "#!import ../config/SettingsHelper.cs\n",
    "\n",
    "using Microsoft.SemanticKernel;\n",
    "\n",
    "MySettings settings = Settings.LoadFromFile();\n",
    "\n",
    "// Configure AI backend used by the kernel\n",
    "KernelBuilder builder = new();\n",
    "if (settings.Type == \"azure\")\n",
    "{\n",
    "    if (!string.IsNullOrWhiteSpace(settings.AzureOpenAI.ChatDeployment))\n",
    "        builder.WithAzureChatCompletionService(settings.AzureOpenAI.ChatDeployment, settings.AzureOpenAI.Endpoint, settings.AzureOpenAI.ApiKey);\n",
    "    if (!string.IsNullOrWhiteSpace(settings.AzureOpenAI.CompletionsDeployment))\n",
    "        builder.WithAzureTextCompletionService(settings.AzureOpenAI.CompletionsDeployment, settings.AzureOpenAI.Endpoint, settings.AzureOpenAI.ApiKey);\n",
    "}\n",
    "else\n",
    "    builder.WithOpenAIChatCompletionService(settings.OpenAI.Model, settings.OpenAI.ApiKey, settings.OpenAI.OrgId);\n",
    "IKernel kernel = builder.Build();"
   ]
  },
  {
   "cell_type": "markdown",
   "metadata": {},
   "source": [
    "# Action Planner\n",
    "\n",
    "The Action Planner chooses one - and only one - semantic function from the list of functions you provide to the kernel.\n",
    "\n",
    "Before you run the following code, open the CelebratePlugin.cs file in the Plugins folder. Here, you'll see more than one SKFunction are defined (e.g. GenerateOccasionCard and GenerateGiftIdeas)."
   ]
  },
  {
   "cell_type": "code",
   "execution_count": null,
   "metadata": {
    "dotnet_interactive": {
     "language": "csharp"
    },
    "polyglot_notebook": {
     "kernelName": "csharp"
    },
    "vscode": {
     "languageId": "polyglot-notebook"
    }
   },
   "outputs": [],
   "source": [
    "using Microsoft.SemanticKernel;\n",
    "using Microsoft.SemanticKernel.Orchestration;\n",
    "using Microsoft.SemanticKernel.Planning;\n",
    "\n",
    "#!import Plugins/CelebratePlugin.cs\n",
    "\n",
    "var celebratePlugin = kernel.ImportSkill(new CelebratePlugin(kernel));\n",
    "\n",
    "ActionPlanner planner = new(kernel);\n",
    "Plan plan = await planner.CreatePlanAsync(\"I have no idea what to get my dad for father's day!\");\n",
    "\n",
    "Console.WriteLine(plan.ToJson(true));\n",
    "\n",
    "SKContext result = await plan.InvokeAsync();\n",
    "\n",
    "Console.WriteLine(result);"
   ]
  },
  {
   "cell_type": "markdown",
   "metadata": {},
   "source": [
    "I know the response is long, but I want you to see the plan generated.\n",
    "\n",
    "The response you are looking for is all the way at the bottom where it generated a list of ideas for father's day gifts even though we didn't tell the kernel to invoke the GenerateGiftIdeas function. There are two AI calls happening here:\n",
    "1. We pass the prompt and a list of our available plugins/function to an instance of ActionPlanner. The ActionPlanner takes care of passing descriptions of each of our funtions to AI and determine which best fits the user's provided input.\n",
    "2. The second call passes our Father's Day prompt to the GenerateGiftIdeas function - and no other function."
   ]
  },
  {
   "cell_type": "markdown",
   "metadata": {},
   "source": []
  },
  {
   "cell_type": "markdown",
   "metadata": {},
   "source": [
    "# Sequential Planner\n",
    "\n"
   ]
  },
  {
   "cell_type": "code",
   "execution_count": null,
   "metadata": {
    "dotnet_interactive": {
     "language": "csharp"
    },
    "polyglot_notebook": {
     "kernelName": "csharp"
    },
    "vscode": {
     "languageId": "polyglot-notebook"
    }
   },
   "outputs": [],
   "source": [
    "using Microsoft.SemanticKernel.Orchestration;\n",
    "\n",
    "// register plugins for getting thematic travel destinations, hotel availability, rental car availability, points of interest, and flight availability\n",
    "string travelDestinations = \"give me a list of travel destinations\";\n",
    "var travelDestinationsFunction = kernel.CreateSemanticFunction(travelDestinations);\n",
    "\n",
    "string hotelAvailability = \"give me hotel availability for these destinations: {{$destinations}}\";\n",
    "var hotelAvailabilityFunction = kernel.CreateSemanticFunction(travelDestinations);\n",
    "\n",
    "string travelDestinations = \"give me a list of travel destinations\";\n",
    "var summaryFunction = kernel.CreateSemanticFunction(travelDestinations);\n",
    "\n",
    "// user's prompt: book a trip\n",
    "string destination = \"I want to book a two-week trip to somewhere warm and sunny.\";\n",
    "\n",
    "// create an instance of a planner and provide a connection to the kernel\n",
    "SequentialPlanner planner = new(kernel);\n",
    "\n",
    "Console.WriteLine(completion);"
   ]
  },
  {
   "cell_type": "markdown",
   "metadata": {},
   "source": []
  },
  {
   "cell_type": "markdown",
   "metadata": {},
   "source": [
    "# Exercise\n",
    "\n"
   ]
  },
  {
   "cell_type": "code",
   "execution_count": null,
   "metadata": {
    "dotnet_interactive": {
     "language": "csharp"
    },
    "polyglot_notebook": {
     "kernelName": "csharp"
    },
    "vscode": {
     "languageId": "polyglot-notebook"
    }
   },
   "outputs": [],
   "source": []
  }
 ],
 "metadata": {
  "language_info": {
   "name": "python"
  },
  "orig_nbformat": 4
 },
 "nbformat": 4,
 "nbformat_minor": 2
}
