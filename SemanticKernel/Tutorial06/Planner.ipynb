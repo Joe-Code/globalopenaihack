{
 "cells": [
  {
   "attachments": {},
   "cell_type": "markdown",
   "metadata": {},
   "source": [
    "# Planner\n",
    "\n",
    "When we know exactly which semantic function we want to invoke in our app, we can just specify it in our code. As we grow our library of interesting and useful semantic functions, we might not want a specific button in our UI to invoke each function. Wouldn't it be cool if the AI could determine which semantic function best fits the user's question?\n",
    "\n",
    "In this tutorial, we'll look at three planners: Action Planner, Sequential Planner, and Stepwise Planner."
   ]
  },
  {
   "cell_type": "code",
   "execution_count": null,
   "metadata": {
    "dotnet_interactive": {
     "language": "csharp"
    },
    "polyglot_notebook": {
     "kernelName": "csharp"
    },
    "vscode": {
     "languageId": "polyglot-notebook"
    }
   },
   "outputs": [],
   "source": [
    "#r \"nuget: Microsoft.SemanticKernel, 0.20.230821.4-preview\"\n",
    "\n",
    "#!import ../config/SettingsHelper.cs\n",
    "\n",
    "using Microsoft.SemanticKernel;\n",
    "// the following is an abbreviated version of the code in Tutorial0 that reads from the settings file and sets up the kernel\n",
    "MySettings settings = Settings.LoadFromFile();\n",
    "IKernel kernel = Settings.SetupSemanticKernel(settings);"
   ]
  },
  {
   "cell_type": "markdown",
   "metadata": {},
   "source": [
    "# Action Planner\n",
    "\n",
    "The Action Planner chooses one - and only one - semantic function from the list of functions you provide to the kernel.\n",
    "\n",
    "Before you run the following code, open the CelebratePlugin.cs file in the Plugins folder. Here, you'll see more than one SKFunction are defined (e.g. GenerateOccasionCard and GenerateGiftIdeas). When creating the plan, we'll first use the user's question to determine the best function to call. We'll then execute the function chosen by the AI. "
   ]
  },
  {
   "cell_type": "code",
   "execution_count": null,
   "metadata": {
    "dotnet_interactive": {
     "language": "csharp"
    },
    "polyglot_notebook": {
     "kernelName": "csharp"
    },
    "vscode": {
     "languageId": "polyglot-notebook"
    }
   },
   "outputs": [],
   "source": [
    "using Microsoft.SemanticKernel;\n",
    "using Microsoft.SemanticKernel.Orchestration;\n",
    "using Microsoft.SemanticKernel.Planning;\n",
    "\n",
    "#!import Plugins/CelebratePlugin.cs\n",
    "\n",
    "// load the kernel up with multiple functions to choose from\n",
    "var celebratePlugin = kernel.ImportSkill(new CelebratePlugin(kernel));\n",
    "\n",
    "// create a planner and ask it to create a plan for us based on the user's prompt\n",
    "ActionPlanner planner = new(kernel);\n",
    "Plan plan = await planner.CreatePlanAsync(\"I have no idea what to get my dad for father's day!\");\n",
    "\n",
    "Console.WriteLine(plan.ToJson(true));\n",
    "\n",
    "// with the plan in hand, we can now execute it and get the result\n",
    "SKContext result = await plan.InvokeAsync();\n",
    "\n",
    "Console.WriteLine(result);"
   ]
  },
  {
   "cell_type": "markdown",
   "metadata": {},
   "source": [
    "I know the response is long, but I want you to see the plan generated.\n",
    "\n",
    "The response you are looking for is all the way at the bottom where it generated a list of ideas for father's day gifts even though we didn't direct the kernel to invoke the GenerateGiftIdeas function. There are two AI calls happening here:\n",
    "1. We pass the prompt and a list of our available plugins/function to an instance of ActionPlanner. The ActionPlanner takes care of passing descriptions of each of our funtions to AI and determine which best fits the user's provided input.\n",
    "2. The second call passes our Father's Day prompt to the GenerateGiftIdeas function - and no other function."
   ]
  },
  {
   "cell_type": "markdown",
   "metadata": {},
   "source": [
    "# Sequential Planner\n",
    "\n",
    "When you know you only want to invoke the single best function, the Action Planner is great! What if we aren't sure of that and we want the AI to select all the necessary functions to answer a user's question. That's where the Sequential Planner shines! After providing it with a number of functions to choose from and a more complex scenario, it will choose the best functions in the correct sequence."
   ]
  },
  {
   "cell_type": "code",
   "execution_count": null,
   "metadata": {
    "dotnet_interactive": {
     "language": "csharp"
    },
    "polyglot_notebook": {
     "kernelName": "csharp"
    },
    "vscode": {
     "languageId": "polyglot-notebook"
    }
   },
   "outputs": [],
   "source": [
    "using Microsoft.SemanticKernel.Orchestration;\n",
    "\n",
    "// register plugins for getting thematic travel destinations, hotel availability, rental car availability, points of interest, and flight availability\n",
    "string travelDestinations = \"give me a comma-separated list of travel destinations given these criteria: {{$input}}\";\n",
    "kernel.CreateSemanticFunction(travelDestinations, description: \"\");\n",
    "\n",
    "string touristActivities = \"give me a list of popular tourist activities for these destinations: {{$input}}\";\n",
    "kernel.CreateSemanticFunction(touristActivities, description: \"\");\n",
    "\n",
    "string drinkRecipes = \"give me a a drink recipe given these criteria: {{$input}}\";\n",
    "kernel.CreateSemanticFunction(drinkRecipes);\n",
    "\n",
    "string drinkRecipes = \"give me a a drink recipe given these criteria: {{$input}}\";\n",
    "kernel.CreateSemanticFunction(drinkRecipes);\n",
    "\n",
    "// user's prompt: book a trip\n",
    "string destination = \"I want to book a two-week trip to somewhere warm and sunny and get some ideas for things to do while I'm there.\";\n",
    "\n",
    "// create an instance of a planner and provide a connection to the kernel\n",
    "SequentialPlanner planner = new(kernel);\n",
    "\n",
    "Plan plan = await planner.CreatePlanAsync(destination);\n",
    "\n",
    "Console.WriteLine(plan.ToJson(true));"
   ]
  },
  {
   "cell_type": "markdown",
   "metadata": {},
   "source": []
  },
  {
   "cell_type": "markdown",
   "metadata": {},
   "source": [
    "# Exercise\n",
    "\n"
   ]
  },
  {
   "cell_type": "code",
   "execution_count": null,
   "metadata": {
    "dotnet_interactive": {
     "language": "csharp"
    },
    "polyglot_notebook": {
     "kernelName": "csharp"
    },
    "vscode": {
     "languageId": "polyglot-notebook"
    }
   },
   "outputs": [],
   "source": []
  }
 ],
 "metadata": {
  "language_info": {
   "name": "python"
  },
  "orig_nbformat": 4
 },
 "nbformat": 4,
 "nbformat_minor": 2
}
