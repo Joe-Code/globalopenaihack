{
 "cells": [
  {
   "attachments": {},
   "cell_type": "markdown",
   "metadata": {},
   "source": [
    "# Prompt Engineering\n",
    "\n",
    "In the current AI world, there's probably no skill more important than **prompt engineering**. Think of prompt engineering as the practice of crafting the best input to an AI model so it can provide your users the best responses.\n",
    "\n",
    "You can read more about Microsoft's take on prompt engineering [here](https://learn.microsoft.com/en-us/azure/cognitive-services/openai/concepts/prompt-engineering) and more advanced techniques [here](https://learn.microsoft.com/en-us/azure/cognitive-services/openai/concepts/advanced-prompt-engineering?pivots%253Dprogramming-language-chat-completions)."
   ]
  },
  {
   "cell_type": "code",
   "execution_count": null,
   "metadata": {
    "dotnet_interactive": {
     "language": "csharp"
    },
    "polyglot_notebook": {
     "kernelName": "csharp"
    },
    "vscode": {
     "languageId": "polyglot-notebook"
    }
   },
   "outputs": [],
   "source": [
    "#r \"nuget: Microsoft.SemanticKernel, 0.20.230821.4-preview\"\n",
    "\n",
    "#!import ../config/SettingsHelper.cs\n",
    "\n",
    "using Microsoft.SemanticKernel;\n",
    "// the following is an abbreviated version of the code in Tutorial0 that reads from the settings file and sets up the kernel\n",
    "MySettings settings = Settings.LoadFromFile();\n",
    "IKernel kernel = Settings.SetupSemanticKernel(settings);"
   ]
  },
  {
   "cell_type": "markdown",
   "metadata": {},
   "source": [
    "## Start small\n",
    "\n",
    "As with human conversations, sometimes too many words can create more confusion. Start with the most basic demand of what you want from the LLM. Only add to your prompt as you see the need to do so.\n",
    "\n",
    "More text in your prompt means more tokens which also raises your cost."
   ]
  },
  {
   "cell_type": "code",
   "execution_count": null,
   "metadata": {
    "dotnet_interactive": {
     "language": "csharp"
    },
    "polyglot_notebook": {
     "kernelName": "csharp"
    },
    "vscode": {
     "languageId": "polyglot-notebook"
    }
   },
   "outputs": [],
   "source": [
    "string functionDefinition = \"\"\"\n",
    "    Tell me how to improve my diet.\n",
    "    \"\"\";\n",
    "    \n",
    "var summaryFunction = kernel.CreateSemanticFunction(functionDefinition);\n",
    "\n",
    "var completion = await summaryFunction.InvokeAsync();\n",
    "\n",
    "Console.WriteLine(completion);"
   ]
  },
  {
   "cell_type": "markdown",
   "metadata": {},
   "source": [
    "# Tell AI what not to do\n",
    "\n",
    "Something I learned a long time ago when I started managing people. You can tell them what you want them to do, but they will sometimes get a little too creative if you don't also tell them what not to do. The same applies when dealing with AI.\n",
    "\n",
    "Another common need is to keep the AI focused on a limited number of topics. If asked about other topics, you may want the AI to ignore the question."
   ]
  },
  {
   "cell_type": "code",
   "execution_count": null,
   "metadata": {
    "dotnet_interactive": {
     "language": "csharp"
    },
    "polyglot_notebook": {
     "kernelName": "csharp"
    },
    "vscode": {
     "languageId": "polyglot-notebook"
    }
   },
   "outputs": [],
   "source": [
    "string functionDefinition = \"\"\"\n",
    "    I'm overwhelmed easily so do not generate more than 3 ideas.\n",
    "    As an AI life coach, you only provide me with advice about my health and wellbeing.\n",
    "    If asked about anything other than individual health and wellbeing, you should respond with \"I don't know\". \n",
    "    \n",
    "    User: Tell me how to improve my {{$input}}.\n",
    "    \"\"\";\n",
    "    \n",
    "var summaryFunction = kernel.CreateSemanticFunction(functionDefinition);\n",
    "\n",
    "var completion = await summaryFunction.InvokeAsync(\"diet\");\n",
    "\n",
    "Console.WriteLine(completion);\n",
    "\n",
    "completion = await summaryFunction.InvokeAsync(\"electric car performance\");\n",
    "\n",
    "Console.WriteLine(completion);"
   ]
  },
  {
   "cell_type": "markdown",
   "metadata": {},
   "source": [
    "# One-shot\n",
    "\n",
    "One of the easiest things you can do to guide the AI is give it an example of the response you are expecting. This is known as single-shot or one-shot prompt engineering.\n",
    "\n",
    "You might want the AI response in a particular format. Maybe you want a generated list to be comma-separated items or maybe you want a bullet list you can paste into PowerPoint or in HTML?\n"
   ]
  },
  {
   "cell_type": "code",
   "execution_count": null,
   "metadata": {
    "dotnet_interactive": {
     "language": "csharp"
    },
    "polyglot_notebook": {
     "kernelName": "csharp"
    },
    "vscode": {
     "languageId": "polyglot-notebook"
    }
   },
   "outputs": [],
   "source": [
    "string functionDefinition = \"\"\"\n",
    "    Generate a list of pet names.\n",
    "\n",
    "    User: generate list of five dog names\n",
    "    AI: Do you like: Abe | Ace | Ash | Art | Ada?\n",
    "\n",
    "    User: generate list of five cat names\n",
    "    AI: Do you like: Abe , Ace | Ash | Art | Ada?\n",
    "\n",
    "    User: generate a list of five {{$input}} names\n",
    "    AI: \n",
    "    \"\"\";\n",
    "    \n",
    "var namesFunction = kernel.CreateSemanticFunction(functionDefinition);\n",
    "\n",
    "var completion = await namesFunction.InvokeAsync(\"cat\");\n",
    "\n",
    "Console.WriteLine(completion);\n"
   ]
  },
  {
   "cell_type": "markdown",
   "metadata": {},
   "source": [
    "In the response, notice how the list is formatted with pipes between each option and how the AI is asking the user a question. "
   ]
  },
  {
   "cell_type": "markdown",
   "metadata": {},
   "source": [
    "# Few-shot\n",
    "\n",
    "Sometimes one example isn't enough. Maybe your desired response varies dramatically based on the input."
   ]
  },
  {
   "cell_type": "code",
   "execution_count": null,
   "metadata": {
    "dotnet_interactive": {
     "language": "csharp"
    },
    "polyglot_notebook": {
     "kernelName": "csharp"
    },
    "vscode": {
     "languageId": "polyglot-notebook"
    }
   },
   "outputs": [],
   "source": [
    "// coming soon"
   ]
  },
  {
   "cell_type": "markdown",
   "metadata": {},
   "source": [
    "# Exercise\n",
    "\n"
   ]
  },
  {
   "cell_type": "code",
   "execution_count": null,
   "metadata": {
    "dotnet_interactive": {
     "language": "csharp"
    },
    "polyglot_notebook": {
     "kernelName": "csharp"
    },
    "vscode": {
     "languageId": "polyglot-notebook"
    }
   },
   "outputs": [],
   "source": []
  }
 ],
 "metadata": {
  "language_info": {
   "name": "python"
  },
  "orig_nbformat": 4
 },
 "nbformat": 4,
 "nbformat_minor": 2
}
