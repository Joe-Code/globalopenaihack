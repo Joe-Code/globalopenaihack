{
 "cells": [
  {
   "attachments": {},
   "cell_type": "markdown",
   "metadata": {},
   "source": [
    "# Creating Your First Semantic Function\n",
    "\n",
    "In order to make effective use of Semantic Kernel, let's establish some foundational vocabulary:\n",
    "- **Large Language Model** evolving out of machine learning neural networks, Large Language Models (or LLMs) make use of a pattern known as a *transformer*. The most recent versions of these models have garnered mainstream attention due to the popularity of ChatGPT - a free webiste that enables anyone to experience artificial intelligence.\n",
    "- **prompt** the input provided to a Large Language Model (LLM) like those developed by OpenAI. In ChatGPT's web site, the text you enter is the prompt.\n",
    "- **completion** the response from OpenAI. In effect, the OpenAI model is trying to predict - or complete - the words or phrases that are likely to appear after the provided input (prompt). "
   ]
  },
  {
   "cell_type": "code",
   "execution_count": null,
   "metadata": {
    "dotnet_interactive": {
     "language": "csharp"
    },
    "polyglot_notebook": {
     "kernelName": "csharp"
    },
    "vscode": {
     "languageId": "polyglot-notebook"
    }
   },
   "outputs": [],
   "source": [
    "#r \"nuget: Microsoft.SemanticKernel, 0.15.230531.5-preview\"\n",
    "\n",
    "#!import ../config/SettingsHelper.cs\n",
    "\n",
    "using Microsoft.SemanticKernel;\n",
    "\n",
    "MySettings settings = Settings.LoadFromFile();\n",
    "\n",
    "// Configure AI backend used by the kernel\n",
    "var builder = new KernelBuilder();\n",
    "if (settings.Type == \"azure\")\n",
    "    builder.WithAzureTextCompletionService(settings.AzureOpenAI.CompletionsDeployment, settings.AzureOpenAI.Endpoint, settings.AzureOpenAI.ApiKey);\n",
    "else\n",
    "    builder.WithOpenAITextCompletionService(settings.OpenAI.Model, settings.OpenAI.ApiKey, settings.OpenAI.OrgId);\n",
    "IKernel kernel = builder.Build();"
   ]
  },
  {
   "attachments": {},
   "cell_type": "markdown",
   "metadata": {},
   "source": [
    "The code above creates an instance of the Semantic Kernel using the KernelBuilder class. This is the \"brains\" of the Semantic Kernel. The code then adds a reference to your specified TextCompletionService (e.g. text-davinci-003)."
   ]
  },
  {
   "cell_type": "code",
   "execution_count": null,
   "metadata": {
    "dotnet_interactive": {
     "language": "csharp"
    },
    "polyglot_notebook": {
     "kernelName": "csharp"
    },
    "vscode": {
     "languageId": "polyglot-notebook"
    }
   },
   "outputs": [],
   "source": [
    "// 1. define your function\n",
    "string functionDefinition = \"\"\"\n",
    "{{$input}}\n",
    "Summarize the content above.\n",
    "\"\"\";\n",
    "// 2. attach the function to your kernel\n",
    "var summaryFunction = kernel.CreateSemanticFunction(functionDefinition);\n",
    "\n",
    "// 3. the prompt is the simple string that users will provide to the function\n",
    "string prompt = \"If you know the enemy and know yourself, you need not fear the result of a hundred battles. If you know yourself but not the enemy, for every victory gained you will also suffer a defeat. If you know neither the enemy nor yourself, you will succumb in every battle.\";\n",
    "\n",
    "// 4. invoke the function to pass the prompt as input to the function - and then the function to OpenAI\n",
    "var completion = await summaryFunction.InvokeAsync(prompt);\n",
    "\n",
    "Console.WriteLine(completion);"
   ]
  },
  {
   "attachments": {},
   "cell_type": "markdown",
   "metadata": {},
   "source": [
    "1. The above code begins by defining a function using just a string variable. The {{$input}} is a variable within the function. In fact, {{$input}} is the default variable used in a function. The variable and the rest of the text in quotes define the entirety of the function.\n",
    "2. In the second line, we tell the kernel to use function defined in step 1. Later we'll look at how to load up several functions - and some other types of functions. \n",
    "3. The third step simply defines the prompt. As an end user, this may be the text you enter into the user interface. \n",
    "4. In the next lines, we call the kernel's InvokeAsync method and substitute the input variable with the prompt. InvokeAsync makes the actual call to your OpenAI service and returns with the completion text."
   ]
  },
  {
   "attachments": {},
   "cell_type": "markdown",
   "metadata": {},
   "source": [
    "## Exercise\n",
    "\n",
    "Using the code block below, create your own semantic function to take a favorite quote as input and translate the text to Tolkien dwarvish."
   ]
  },
  {
   "cell_type": "code",
   "execution_count": 3,
   "metadata": {
    "dotnet_interactive": {
     "language": "csharp"
    },
    "polyglot_notebook": {
     "kernelName": "csharp"
    },
    "vscode": {
     "languageId": "polyglot-notebook"
    }
   },
   "outputs": [],
   "source": []
  }
 ],
 "metadata": {
  "language_info": {
   "name": "python"
  },
  "orig_nbformat": 4
 },
 "nbformat": 4,
 "nbformat_minor": 2
}
